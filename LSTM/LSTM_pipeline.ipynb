{
 "cells": [
  {
   "cell_type": "markdown",
   "metadata": {},
   "source": [
    "# Import libraries and modules"
   ]
  },
  {
   "cell_type": "code",
   "execution_count": 11,
   "metadata": {},
   "outputs": [],
   "source": [
    "import torch\n",
    "import torch.nn as nn\n",
    "from torch.utils.data import DataLoader, Dataset\n",
    "import pandas as pd\n",
    "from LSTM_module import StockLSTM\n",
    "from sklearn.model_selection import train_test_split\n",
    "from matplotlib import pyplot as plt"
   ]
  },
  {
   "cell_type": "code",
   "execution_count": 13,
   "metadata": {},
   "outputs": [],
   "source": [
    "import sys\n",
    "import os\n",
    "\n",
    "module_path = os.path.abspath(os.path.join('../Datasets'))\n",
    "if module_path not in sys.path:\n",
    "    sys.path.append(module_path)\n",
    "\n",
    "from dataset_creation import StockDataset"
   ]
  },
  {
   "cell_type": "markdown",
   "metadata": {},
   "source": [
    "# Load Dataset"
   ]
  },
  {
   "cell_type": "code",
   "execution_count": 12,
   "metadata": {},
   "outputs": [
    {
     "name": "stdout",
     "output_type": "stream",
     "text": [
      "1258\n"
     ]
    }
   ],
   "source": [
    "base_path = \"../price/raw\"\n",
    "df = pd.read_csv(f\"{base_path}/AAPL.csv\")\n",
    "print(len(df))"
   ]
  },
  {
   "cell_type": "code",
   "execution_count": 3,
   "metadata": {},
   "outputs": [
    {
     "data": {
      "text/html": [
       "<div>\n",
       "<style scoped>\n",
       "    .dataframe tbody tr th:only-of-type {\n",
       "        vertical-align: middle;\n",
       "    }\n",
       "\n",
       "    .dataframe tbody tr th {\n",
       "        vertical-align: top;\n",
       "    }\n",
       "\n",
       "    .dataframe thead th {\n",
       "        text-align: right;\n",
       "    }\n",
       "</style>\n",
       "<table border=\"1\" class=\"dataframe\">\n",
       "  <thead>\n",
       "    <tr style=\"text-align: right;\">\n",
       "      <th></th>\n",
       "      <th>Date</th>\n",
       "      <th>Open</th>\n",
       "      <th>High</th>\n",
       "      <th>Low</th>\n",
       "      <th>Close</th>\n",
       "      <th>Adj Close</th>\n",
       "      <th>Volume</th>\n",
       "    </tr>\n",
       "  </thead>\n",
       "  <tbody>\n",
       "    <tr>\n",
       "      <th>0</th>\n",
       "      <td>2012-09-04</td>\n",
       "      <td>95.108574</td>\n",
       "      <td>96.448570</td>\n",
       "      <td>94.928574</td>\n",
       "      <td>96.424286</td>\n",
       "      <td>87.121140</td>\n",
       "      <td>91973000</td>\n",
       "    </tr>\n",
       "    <tr>\n",
       "      <th>1</th>\n",
       "      <td>2012-09-05</td>\n",
       "      <td>96.510002</td>\n",
       "      <td>96.621429</td>\n",
       "      <td>95.657143</td>\n",
       "      <td>95.747147</td>\n",
       "      <td>86.509338</td>\n",
       "      <td>84093800</td>\n",
       "    </tr>\n",
       "    <tr>\n",
       "      <th>2</th>\n",
       "      <td>2012-09-06</td>\n",
       "      <td>96.167145</td>\n",
       "      <td>96.898575</td>\n",
       "      <td>95.828575</td>\n",
       "      <td>96.610001</td>\n",
       "      <td>87.288956</td>\n",
       "      <td>97799100</td>\n",
       "    </tr>\n",
       "    <tr>\n",
       "      <th>3</th>\n",
       "      <td>2012-09-07</td>\n",
       "      <td>96.864288</td>\n",
       "      <td>97.497147</td>\n",
       "      <td>96.538574</td>\n",
       "      <td>97.205711</td>\n",
       "      <td>87.827171</td>\n",
       "      <td>82416600</td>\n",
       "    </tr>\n",
       "    <tr>\n",
       "      <th>4</th>\n",
       "      <td>2012-09-10</td>\n",
       "      <td>97.207146</td>\n",
       "      <td>97.612854</td>\n",
       "      <td>94.585716</td>\n",
       "      <td>94.677139</td>\n",
       "      <td>85.542564</td>\n",
       "      <td>121999500</td>\n",
       "    </tr>\n",
       "  </tbody>\n",
       "</table>\n",
       "</div>"
      ],
      "text/plain": [
       "         Date       Open       High        Low      Close  Adj Close  \\\n",
       "0  2012-09-04  95.108574  96.448570  94.928574  96.424286  87.121140   \n",
       "1  2012-09-05  96.510002  96.621429  95.657143  95.747147  86.509338   \n",
       "2  2012-09-06  96.167145  96.898575  95.828575  96.610001  87.288956   \n",
       "3  2012-09-07  96.864288  97.497147  96.538574  97.205711  87.827171   \n",
       "4  2012-09-10  97.207146  97.612854  94.585716  94.677139  85.542564   \n",
       "\n",
       "      Volume  \n",
       "0   91973000  \n",
       "1   84093800  \n",
       "2   97799100  \n",
       "3   82416600  \n",
       "4  121999500  "
      ]
     },
     "execution_count": 3,
     "metadata": {},
     "output_type": "execute_result"
    }
   ],
   "source": [
    "df.head()"
   ]
  },
  {
   "cell_type": "code",
   "execution_count": 4,
   "metadata": {},
   "outputs": [],
   "source": [
    "from sklearn.preprocessing import MinMaxScaler\n",
    "scaler = MinMaxScaler()\n",
    "df[['Open','High','Low','Close','Volume']] = scaler.fit_transform(df[['Open','High','Low','Close','Volume']])"
   ]
  },
  {
   "cell_type": "code",
   "execution_count": 16,
   "metadata": {},
   "outputs": [
    {
     "data": {
      "text/html": [
       "<div>\n",
       "<style scoped>\n",
       "    .dataframe tbody tr th:only-of-type {\n",
       "        vertical-align: middle;\n",
       "    }\n",
       "\n",
       "    .dataframe tbody tr th {\n",
       "        vertical-align: top;\n",
       "    }\n",
       "\n",
       "    .dataframe thead th {\n",
       "        text-align: right;\n",
       "    }\n",
       "</style>\n",
       "<table border=\"1\" class=\"dataframe\">\n",
       "  <thead>\n",
       "    <tr style=\"text-align: right;\">\n",
       "      <th></th>\n",
       "      <th>Date</th>\n",
       "      <th>Open</th>\n",
       "      <th>High</th>\n",
       "      <th>Low</th>\n",
       "      <th>Close</th>\n",
       "      <th>Adj Close</th>\n",
       "      <th>Volume</th>\n",
       "    </tr>\n",
       "  </thead>\n",
       "  <tbody>\n",
       "    <tr>\n",
       "      <th>0</th>\n",
       "      <td>2012-09-04</td>\n",
       "      <td>0.362825</td>\n",
       "      <td>0.364963</td>\n",
       "      <td>0.367482</td>\n",
       "      <td>0.375340</td>\n",
       "      <td>87.121140</td>\n",
       "      <td>0.227562</td>\n",
       "    </tr>\n",
       "    <tr>\n",
       "      <th>1</th>\n",
       "      <td>2012-09-05</td>\n",
       "      <td>0.375638</td>\n",
       "      <td>0.366566</td>\n",
       "      <td>0.374189</td>\n",
       "      <td>0.369085</td>\n",
       "      <td>86.509338</td>\n",
       "      <td>0.205288</td>\n",
       "    </tr>\n",
       "    <tr>\n",
       "      <th>2</th>\n",
       "      <td>2012-09-06</td>\n",
       "      <td>0.372504</td>\n",
       "      <td>0.369136</td>\n",
       "      <td>0.375768</td>\n",
       "      <td>0.377055</td>\n",
       "      <td>87.288956</td>\n",
       "      <td>0.244032</td>\n",
       "    </tr>\n",
       "    <tr>\n",
       "      <th>3</th>\n",
       "      <td>2012-09-07</td>\n",
       "      <td>0.378878</td>\n",
       "      <td>0.374685</td>\n",
       "      <td>0.382305</td>\n",
       "      <td>0.382558</td>\n",
       "      <td>87.827171</td>\n",
       "      <td>0.200546</td>\n",
       "    </tr>\n",
       "    <tr>\n",
       "      <th>4</th>\n",
       "      <td>2012-09-10</td>\n",
       "      <td>0.382012</td>\n",
       "      <td>0.375758</td>\n",
       "      <td>0.364325</td>\n",
       "      <td>0.359201</td>\n",
       "      <td>85.542564</td>\n",
       "      <td>0.312446</td>\n",
       "    </tr>\n",
       "  </tbody>\n",
       "</table>\n",
       "</div>"
      ],
      "text/plain": [
       "         Date      Open      High       Low     Close  Adj Close    Volume\n",
       "0  2012-09-04  0.362825  0.364963  0.367482  0.375340  87.121140  0.227562\n",
       "1  2012-09-05  0.375638  0.366566  0.374189  0.369085  86.509338  0.205288\n",
       "2  2012-09-06  0.372504  0.369136  0.375768  0.377055  87.288956  0.244032\n",
       "3  2012-09-07  0.378878  0.374685  0.382305  0.382558  87.827171  0.200546\n",
       "4  2012-09-10  0.382012  0.375758  0.364325  0.359201  85.542564  0.312446"
      ]
     },
     "execution_count": 16,
     "metadata": {},
     "output_type": "execute_result"
    }
   ],
   "source": [
    "df.head()"
   ]
  },
  {
   "cell_type": "markdown",
   "metadata": {},
   "source": [
    "# Prepare dataset"
   ]
  },
  {
   "cell_type": "code",
   "execution_count": 54,
   "metadata": {},
   "outputs": [],
   "source": [
    "feature_columns = ['Open','High','Low','Close','Volume']\n",
    "# feature_columns = ['Close']\n",
    "filtered_df = df[feature_columns]\n",
    "seq_len = 10\n",
    "train_size = int(len(filtered_df) * 0.8)\n",
    "train_data = filtered_df.iloc[:train_size]\n",
    "test_data = filtered_df.iloc[train_size:]\n"
   ]
  },
  {
   "cell_type": "code",
   "execution_count": 55,
   "metadata": {},
   "outputs": [
    {
     "name": "stdout",
     "output_type": "stream",
     "text": [
      "Datasets created successfully!\n"
     ]
    }
   ],
   "source": [
    "try:\n",
    "    train_dataset = StockDataset(train_data, seq_len, feature_columns)\n",
    "    test_dataset = StockDataset(test_data, seq_len, feature_columns)\n",
    "    print(\"Datasets created successfully!\")\n",
    "except Exception as e:\n",
    "    print(f\"Error creating dataset: {e}\")"
   ]
  },
  {
   "cell_type": "code",
   "execution_count": 56,
   "metadata": {},
   "outputs": [
    {
     "data": {
      "text/plain": [
       "(tensor([[0.3628, 0.3650, 0.3675, 0.3753, 0.2276],\n",
       "         [0.3756, 0.3666, 0.3742, 0.3691, 0.2053],\n",
       "         [0.3725, 0.3691, 0.3758, 0.3771, 0.2440],\n",
       "         [0.3789, 0.3747, 0.3823, 0.3826, 0.2005],\n",
       "         [0.3820, 0.3758, 0.3643, 0.3592, 0.3124],\n",
       "         [0.3620, 0.3583, 0.3570, 0.3564, 0.3237],\n",
       "         [0.3642, 0.3580, 0.3563, 0.3685, 0.4709],\n",
       "         [0.3780, 0.3787, 0.3810, 0.3859, 0.3904],\n",
       "         [0.3944, 0.3939, 0.3982, 0.3969, 0.3919],\n",
       "         [0.4067, 0.3976, 0.4071, 0.4081, 0.2489]]),\n",
       " tensor(0.4109))"
      ]
     },
     "execution_count": 56,
     "metadata": {},
     "output_type": "execute_result"
    }
   ],
   "source": [
    "train_dataset[0]"
   ]
  },
  {
   "cell_type": "code",
   "execution_count": 57,
   "metadata": {},
   "outputs": [],
   "source": [
    "# Create DataLoaders\n",
    "batch_size = 32\n",
    "train_loader = DataLoader(train_dataset, batch_size=batch_size, shuffle=True)\n",
    "test_loader = DataLoader(test_dataset, batch_size=batch_size, shuffle=False)\n",
    "\n"
   ]
  },
  {
   "cell_type": "markdown",
   "metadata": {},
   "source": [
    "# Model initialization"
   ]
  },
  {
   "cell_type": "code",
   "execution_count": 61,
   "metadata": {},
   "outputs": [],
   "source": [
    "input_size = len(feature_columns)\n",
    "hidden_size = 128\n",
    "num_layers = 3\n",
    "\n",
    "model = StockLSTM(input_size=input_size, hidden_size=hidden_size, num_layers=num_layers)\n",
    "criterion = nn.MSELoss()\n",
    "optimizer = torch.optim.Adam(model.parameters(), lr=1e-4)"
   ]
  },
  {
   "cell_type": "code",
   "execution_count": 62,
   "metadata": {},
   "outputs": [
    {
     "name": "stdout",
     "output_type": "stream",
     "text": [
      "Epoch 1/100, Loss: 0.009803221561014652\n",
      "Epoch 2/100, Loss: 0.04910356178879738\n",
      "Epoch 3/100, Loss: 0.007827581837773323\n",
      "Epoch 4/100, Loss: 0.0010483748046681285\n",
      "Epoch 5/100, Loss: 0.001675026724115014\n",
      "Epoch 6/100, Loss: 0.0013278003316372633\n",
      "Epoch 7/100, Loss: 0.0021231435239315033\n",
      "Epoch 8/100, Loss: 0.0019446334335952997\n",
      "Epoch 9/100, Loss: 0.001371200429275632\n",
      "Epoch 10/100, Loss: 0.0005668331868946552\n",
      "Epoch 11/100, Loss: 0.0007176247891038656\n",
      "Epoch 12/100, Loss: 0.0003044525219593197\n",
      "Epoch 13/100, Loss: 0.0009182590874843299\n",
      "Epoch 14/100, Loss: 0.0007298466516658664\n",
      "Epoch 15/100, Loss: 0.0005348121630959213\n",
      "Epoch 16/100, Loss: 0.0004329335642978549\n",
      "Epoch 17/100, Loss: 0.00028408155776560307\n",
      "Epoch 18/100, Loss: 0.0011382353259250522\n",
      "Epoch 19/100, Loss: 0.0006140489131212234\n",
      "Epoch 20/100, Loss: 0.0002845781564246863\n",
      "Epoch 21/100, Loss: 0.00046018086140975356\n",
      "Epoch 22/100, Loss: 0.0006997259333729744\n",
      "Epoch 23/100, Loss: 0.0003759765240829438\n",
      "Epoch 24/100, Loss: 0.00023448547290172428\n",
      "Epoch 25/100, Loss: 0.0010144090047106147\n",
      "Epoch 26/100, Loss: 0.0015428514452651143\n",
      "Epoch 27/100, Loss: 0.000998814357444644\n",
      "Epoch 28/100, Loss: 0.0012236349284648895\n",
      "Epoch 29/100, Loss: 0.001266062492504716\n",
      "Epoch 30/100, Loss: 0.0007488479604944587\n",
      "Epoch 31/100, Loss: 0.00016756175318732858\n",
      "Epoch 32/100, Loss: 0.0007176643121056259\n",
      "Epoch 33/100, Loss: 0.0014004773693159223\n",
      "Epoch 34/100, Loss: 0.0005682944320142269\n",
      "Epoch 35/100, Loss: 0.00036387896398082376\n",
      "Epoch 36/100, Loss: 0.0003718419757205993\n",
      "Epoch 37/100, Loss: 0.0011351610301062465\n",
      "Epoch 38/100, Loss: 0.0013398403534665704\n",
      "Epoch 39/100, Loss: 0.0002999725111294538\n",
      "Epoch 40/100, Loss: 0.0004460873897187412\n",
      "Epoch 41/100, Loss: 0.0008999538840726018\n",
      "Epoch 42/100, Loss: 0.0015084410551935434\n",
      "Epoch 43/100, Loss: 0.0003786383895203471\n",
      "Epoch 44/100, Loss: 0.0008751452551223338\n",
      "Epoch 45/100, Loss: 0.000230842488235794\n",
      "Epoch 46/100, Loss: 7.331883534789085e-05\n",
      "Epoch 47/100, Loss: 0.0014339828630909324\n",
      "Epoch 48/100, Loss: 0.00016656439402140677\n",
      "Epoch 49/100, Loss: 0.0009607143001630902\n",
      "Epoch 50/100, Loss: 0.0011619024444371462\n",
      "Epoch 51/100, Loss: 0.0047567919827997684\n",
      "Epoch 52/100, Loss: 0.0001866592065198347\n",
      "Epoch 53/100, Loss: 0.00022828372311778367\n",
      "Epoch 54/100, Loss: 0.00023287981457542628\n",
      "Epoch 55/100, Loss: 0.00132102076895535\n",
      "Epoch 56/100, Loss: 0.0006813259096816182\n",
      "Epoch 57/100, Loss: 5.645628698403016e-05\n",
      "Epoch 58/100, Loss: 0.0014081840636208653\n",
      "Epoch 59/100, Loss: 0.0006775859510526061\n",
      "Epoch 60/100, Loss: 0.0014074048958718777\n",
      "Epoch 61/100, Loss: 0.00014349116827361286\n",
      "Epoch 62/100, Loss: 0.0003238115459680557\n",
      "Epoch 63/100, Loss: 0.00048197887372225523\n",
      "Epoch 64/100, Loss: 0.0004260962887201458\n",
      "Epoch 65/100, Loss: 0.0007783720502629876\n",
      "Epoch 66/100, Loss: 0.0005310715641826391\n",
      "Epoch 67/100, Loss: 0.00040479586459696293\n",
      "Epoch 68/100, Loss: 0.00013835381832905114\n",
      "Epoch 69/100, Loss: 0.0018874850356951356\n",
      "Epoch 70/100, Loss: 0.00044542454998008907\n",
      "Epoch 71/100, Loss: 0.000689639535266906\n",
      "Epoch 72/100, Loss: 0.0005242946790531278\n",
      "Epoch 73/100, Loss: 0.00018360692774876952\n",
      "Epoch 74/100, Loss: 0.0012398352846503258\n",
      "Epoch 75/100, Loss: 0.00011399635695852339\n",
      "Epoch 76/100, Loss: 0.0006058679427951574\n",
      "Epoch 77/100, Loss: 0.001294616493396461\n",
      "Epoch 78/100, Loss: 0.00032728127553127706\n",
      "Epoch 79/100, Loss: 0.0006650549476034939\n",
      "Epoch 80/100, Loss: 0.00024452494108118117\n",
      "Epoch 81/100, Loss: 3.447429844527505e-05\n",
      "Epoch 82/100, Loss: 0.0005951509228907526\n",
      "Epoch 83/100, Loss: 0.00046513177221640944\n",
      "Epoch 84/100, Loss: 0.0010985331609845161\n",
      "Epoch 85/100, Loss: 0.0003505610511638224\n",
      "Epoch 86/100, Loss: 0.0007119978545233607\n",
      "Epoch 87/100, Loss: 0.00036990371881984174\n",
      "Epoch 88/100, Loss: 8.516445814166218e-05\n",
      "Epoch 89/100, Loss: 0.0007402929477393627\n",
      "Epoch 90/100, Loss: 0.0006659731734544039\n",
      "Epoch 91/100, Loss: 0.001869681873358786\n",
      "Epoch 92/100, Loss: 0.001440625637769699\n",
      "Epoch 93/100, Loss: 0.0002964308951050043\n",
      "Epoch 94/100, Loss: 0.0008367876871488988\n",
      "Epoch 95/100, Loss: 0.00046484655467793345\n",
      "Epoch 96/100, Loss: 0.0005713958526030183\n",
      "Epoch 97/100, Loss: 0.0008940629195421934\n",
      "Epoch 98/100, Loss: 0.0006361867999657989\n",
      "Epoch 99/100, Loss: 0.0001631727209314704\n",
      "Epoch 100/100, Loss: 0.0008550460916012526\n"
     ]
    }
   ],
   "source": [
    "epochs = 100\n",
    "for epoch in range(epochs):\n",
    "    model.train()\n",
    "    for inputs, targets in train_loader:\n",
    "        optimizer.zero_grad()\n",
    "        outputs = model(inputs)\n",
    "        loss = criterion(outputs.squeeze(), targets)\n",
    "        loss.backward()\n",
    "        optimizer.step()\n",
    "    print(f\"Epoch {epoch+1}/{epochs}, Loss: {loss.item()}\")\n",
    "\n",
    "# Test the model\n",
    "model.eval()\n",
    "predictions, actuals = [], []\n",
    "with torch.no_grad():\n",
    "    for inputs, targets in test_loader:\n",
    "        outputs = model(inputs)\n",
    "        predictions.extend(outputs.squeeze().numpy())\n",
    "        actuals.extend(targets.numpy())"
   ]
  },
  {
   "cell_type": "code",
   "execution_count": 63,
   "metadata": {},
   "outputs": [
    {
     "data": {
      "image/png": "[encoded data removed]",
      "text/plain": [
       "<Figure size 1000x600 with 1 Axes>"
      ]
     },
     "metadata": {},
     "output_type": "display_data"
    }
   ],
   "source": [
    "# Visualize results\n",
    "plt.figure(figsize=(10, 6))\n",
    "plt.plot(actuals, label='Actual Prices', marker='o')\n",
    "plt.plot(predictions, label='Predicted Prices', marker='x')\n",
    "plt.title(f'Stock Price Prediction - Hidden size :{hidden_size}, Num of layers:{ num_layers}, Epochs:{epochs}')\n",
    "plt.xlabel('Time')\n",
    "plt.ylabel('Stock Price')\n",
    "plt.legend()\n",
    "plt.show()\n"
   ]
  },
  {
   "cell_type": "code",
   "execution_count": null,
   "metadata": {},
   "outputs": [],
   "source": []
  }
 ],
 "metadata": {
  "kernelspec": {
   "display_name": "thesis_env",
   "language": "python",
   "name": "python3"
  },
  "language_info": {
   "codemirror_mode": {
    "name": "ipython",
    "version": 3
   },
   "file_extension": ".py",
   "mimetype": "text/x-python",
   "name": "python",
   "nbconvert_exporter": "python",
   "pygments_lexer": "ipython3",
   "version": "3.10.13"
  }
 },
 "nbformat": 4,
 "nbformat_minor": 2
}
