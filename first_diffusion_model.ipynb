{
 "cells": [
  {
   "cell_type": "code",
   "execution_count": 4,
   "metadata": {},
   "outputs": [
    {
     "name": "stderr",
     "output_type": "stream",
     "text": [
      "/home/giorgos-tsouderos/miniconda3/envs/thesis_env/lib/python3.10/site-packages/torch/_subclasses/functional_tensor.py:295: UserWarning: Failed to initialize NumPy: No module named 'numpy' (Triggered internally at /opt/conda/conda-bld/pytorch_1729647382455/work/torch/csrc/utils/tensor_numpy.cpp:84.)\n",
      "  cpu = _conversion_method_template(device=torch.device(\"cpu\"))\n"
     ]
    }
   ],
   "source": [
    "import os\n",
    "import torch\n",
    "\n",
    "import torch.nn as nn\n",
    "from torch import optim\n",
    "import logging"
   ]
  },
  {
   "cell_type": "code",
   "execution_count": 9,
   "metadata": {},
   "outputs": [],
   "source": [
    "from matplotlib import pyplot as plt\n",
    "from tqdm import tqdm"
   ]
  },
  {
   "cell_type": "code",
   "execution_count": 6,
   "metadata": {},
   "outputs": [],
   "source": [
    "logging.basicConfig(format = \"%(asctime)s - %(levelname)s - %(message)s\", level= logging.INFO, datafmt= \"%I:%M:%S\")"
   ]
  },
  {
   "cell_type": "code",
   "execution_count": null,
   "metadata": {},
   "outputs": [],
   "source": [
    "class Difussion:\n",
    "    def __init(self,noise_steps=1000, beta_start =1e-4, beta_end = 0.02, img_size=64,device = \"cuda\"):\n",
    "        self.noise_steps = noise_steps\n",
    "        self.beta_start = beta_start\n",
    "        self.beta_end = beta_end\n",
    "        self.img_size = img_size\n",
    "        self.device = device\n",
    "\n",
    "        self.beta - self.prepare_noise_schedule().to(device)\n",
    "        self.alpha = 1 - self.beta\n",
    "        self.alpha_hat = torch.cumprod(self.alpha,dim=0)\n",
    "    \n",
    "    def prepare_noise_schedule(self):\n",
    "        betas = torch.linspace(self.beta_start,self.beta_end,self.noise_steps)\n",
    "        return betas\n",
    "    \n",
    "\n",
    "    def noise_images(self,x,t):\n",
    "        sqrt_alpha_hat = torch.sqrt(self.alpha_hat[t])[:,None,None,None]\n",
    "        sqrt_one_minus_alpha_hat = torch.sqrt(1-self.alpha_hat[t])[:,None,None,None]\n",
    "        noise = torch.rand_like(x)\n",
    "        return sqrt_alpha_hat*x + sqrt_one_minus_alpha_hat*noise, noise\n",
    "    \n",
    "    def sample_timesteps(self,n):\n",
    "        return torch.randint(low=1,high = self.noise_steps,size=(n,))\n",
    "    \n",
    "    def sample(self,model,n):\n",
    "        logging.info(f\"Sampling {n} new images...\")\n",
    "        model.eval()\n",
    "\n",
    "        with torch.no_grad():\n",
    "            x = torch.randn((n,3,self.img_size,self.img_size)).to(self.device)\n",
    "            for i in tqdm(reversed(range(1,self.noise_steps)),position=0):\n",
    "                t = (torch.ones(n)*1).long().to(self.device)\n",
    "                predicted_noise = model(x,t)\n",
    "                alpha = self.alpha[t][:,None,None,None]\n",
    "                alpha_hat = self.alpha_hat[t][:,None,None,None]\n",
    "                beta = self.beta[t][:,None,None,None]\n",
    "                if i >1:\n",
    "                    noise = torch.randn_like(x)\n",
    "                else :\n",
    "                    noise = torch.zeros_like(x)\n",
    "                x = 1/torch.sqrt(alpha)*(x-((1-alpha)/(torch.sqrt(1-alpha_hat))) *predicted_noise) + torch.sqrt(beta)*noise\n",
    "        model.train()\n",
    "        x = (x.clamp(-1,1))/2\n",
    "        x = x(x*255).type(torch.uint8)\n",
    "        return x"
   ]
  },
  {
   "cell_type": "code",
   "execution_count": null,
   "metadata": {},
   "outputs": [],
   "source": []
  }
 ],
 "metadata": {
  "kernelspec": {
   "display_name": "Python 3 (ipykernel)",
   "language": "python",
   "name": "python3"
  },
  "language_info": {
   "codemirror_mode": {
    "name": "ipython",
    "version": 3
   },
   "file_extension": ".py",
   "mimetype": "text/x-python",
   "name": "python",
   "nbconvert_exporter": "python",
   "pygments_lexer": "ipython3",
   "version": "3.12.3"
  }
 },
 "nbformat": 4,
 "nbformat_minor": 2
}
