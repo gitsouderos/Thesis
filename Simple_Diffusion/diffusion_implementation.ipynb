{
 "cells": [
  {
   "cell_type": "code",
   "execution_count": 1,
   "metadata": {},
   "outputs": [],
   "source": [
    "from diffusion import forward_diffusion_sample\n",
    "import torch"
   ]
  },
  {
   "cell_type": "code",
   "execution_count": 2,
   "metadata": {},
   "outputs": [],
   "source": [
    "num_diffusion_steps = 1000\n",
    "betas = torch.linspace(0.0001, 0.02, num_diffusion_steps)\n",
    "\n",
    "batch_size =  4\n",
    "dim = 10\n",
    "\n",
    "x_0 = torch.randn(batch_size, dim)"
   ]
  },
  {
   "cell_type": "code",
   "execution_count": 3,
   "metadata": {},
   "outputs": [
    {
     "data": {
      "text/plain": [
       "torch.Size([1000])"
      ]
     },
     "execution_count": 3,
     "metadata": {},
     "output_type": "execute_result"
    }
   ],
   "source": [
    "betas.shape"
   ]
  },
  {
   "cell_type": "code",
   "execution_count": 4,
   "metadata": {},
   "outputs": [
    {
     "data": {
      "text/plain": [
       "torch.Size([4, 10])"
      ]
     },
     "execution_count": 4,
     "metadata": {},
     "output_type": "execute_result"
    }
   ],
   "source": [
    "x_0.shape"
   ]
  },
  {
   "cell_type": "code",
   "execution_count": 5,
   "metadata": {},
   "outputs": [],
   "source": [
    "timestep = 50\n",
    "timestep_tensor = torch.full((batch_size,), timestep, dtype=torch.long) # Tensor shaped (batch_size,) with timestep repeated batch_size times"
   ]
  },
  {
   "cell_type": "code",
   "execution_count": 6,
   "metadata": {},
   "outputs": [],
   "source": [
    "x_t,noise = forward_diffusion_sample(x_0, timestep_tensor,betas)"
   ]
  },
  {
   "cell_type": "code",
   "execution_count": 7,
   "metadata": {},
   "outputs": [
    {
     "name": "stdout",
     "output_type": "stream",
     "text": [
      "Clean sample (x_0):\n",
      "tensor([[ 0.1289,  1.2353,  0.4951, -0.5941,  0.9091, -2.4496, -1.1601,  0.7472,\n",
      "          0.9987, -0.0277],\n",
      "        [ 1.1224,  0.0131,  0.2411, -0.4904, -1.4988,  0.1941,  0.9542,  0.6246,\n",
      "         -0.3093,  1.1427],\n",
      "        [-0.1251, -1.9981,  0.0297,  0.4134,  0.6649,  0.3738,  1.0905,  2.1470,\n",
      "          0.1550,  1.2265],\n",
      "        [ 0.1750, -0.4440,  1.8210, -0.5959,  0.6082, -0.7949,  0.6316,  1.2487,\n",
      "         -1.1915,  0.6133]])\n",
      "\n",
      "Noisy sample (x_t):\n",
      "tensor([[ 0.0329,  1.3515,  0.2929, -0.3607,  0.6868, -2.7179, -1.2975,  0.7080,\n",
      "          0.9692,  0.1483],\n",
      "        [ 0.9277,  0.1480,  0.0658, -0.4784, -1.4647,  0.0577,  0.9844,  0.4709,\n",
      "         -0.4477,  1.2396],\n",
      "        [-0.2062, -1.9331, -0.1775,  0.6897,  0.3664,  0.3046,  1.0970,  2.0510,\n",
      "          0.0666,  1.2832],\n",
      "        [ 0.1346, -0.5330,  1.7441, -0.6661,  0.2818, -0.7349,  0.8008,  1.2485,\n",
      "         -0.9270,  0.6817]])\n",
      "\n",
      "Noise added:\n",
      "tensor([[-0.5424,  0.7780, -1.1230,  1.2949, -1.2032, -1.7616, -0.8936, -0.1608,\n",
      "         -0.0834,  1.0130],\n",
      "        [-1.0253,  0.7798, -0.9903,  0.0262,  0.0653, -0.7700,  0.2574, -0.8319,\n",
      "         -0.8252,  0.6590],\n",
      "        [-0.4787,  0.2005, -1.1925,  1.6303, -1.6644, -0.3667,  0.1326, -0.3667,\n",
      "         -0.4965,  0.4342],\n",
      "        [-0.2176, -0.5517, -0.2845, -0.4569, -1.8300,  0.2765,  1.0310,  0.1083,\n",
      "          1.4222,  0.4481]])\n"
     ]
    }
   ],
   "source": [
    "\n",
    "print(\"Clean sample (x_0):\")\n",
    "print(x_0)\n",
    "print(\"\\nNoisy sample (x_t):\")\n",
    "print(x_t)\n",
    "print(\"\\nNoise added:\")\n",
    "print(noise)"
   ]
  },
  {
   "cell_type": "code",
   "execution_count": null,
   "metadata": {},
   "outputs": [],
   "source": []
  }
 ],
 "metadata": {
  "kernelspec": {
   "display_name": "thesis_env",
   "language": "python",
   "name": "python3"
  },
  "language_info": {
   "codemirror_mode": {
    "name": "ipython",
    "version": 3
   },
   "file_extension": ".py",
   "mimetype": "text/x-python",
   "name": "python",
   "nbconvert_exporter": "python",
   "pygments_lexer": "ipython3",
   "version": "3.10.13"
  }
 },
 "nbformat": 4,
 "nbformat_minor": 2
}
