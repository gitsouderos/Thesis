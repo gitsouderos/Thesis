{
 "cells": [
  {
   "cell_type": "code",
   "execution_count": 1,
   "metadata": {},
   "outputs": [],
   "source": [
    "from dataset import load_all_stock_data\n",
    "import pandas as pd\n",
    "from dataset import ConditionalStockDataset"
   ]
  },
  {
   "cell_type": "markdown",
   "metadata": {},
   "source": [
    "# Data Loading"
   ]
  },
  {
   "cell_type": "code",
   "execution_count": 2,
   "metadata": {},
   "outputs": [
    {
     "name": "stdout",
     "output_type": "stream",
     "text": [
      "Loaded and processed data for 88 stocks\n"
     ]
    }
   ],
   "source": [
    "data_path = \"../../../price/raw/\"\n",
    "data = load_all_stock_data(data_path)"
   ]
  },
  {
   "cell_type": "code",
   "execution_count": 3,
   "metadata": {},
   "outputs": [],
   "source": [
    "context_len = 10\n",
    "feature_columns = [\"Open\",\"High\",\"Low\",\"Volume\",\"Return\",\"Diff\",\"HL_Diff\",\"MA5\",\"Return_MA5\"]\n",
    "target_column = [\"Close\"]\n",
    "train_data = ConditionalStockDataset(data,context_len,feature_columns,target_column,split='train')\n",
    "test_data = ConditionalStockDataset(data,context_len,feature_columns,target_column,split='test')"
   ]
  },
  {
   "cell_type": "code",
   "execution_count": 4,
   "metadata": {},
   "outputs": [
    {
     "name": "stdout",
     "output_type": "stream",
     "text": [
      "BA tensor([[3.0266e-04, 3.0252e-04, 3.0409e-04, 6.4080e-03, 7.3007e-01, 5.8009e-01,\n",
      "         4.5562e-05, 3.0576e-04, 6.3183e-01],\n",
      "        [3.0371e-04, 3.0257e-04, 3.0256e-04, 7.1370e-03, 7.1718e-01, 5.8004e-01,\n",
      "         7.7105e-05, 3.0611e-04, 6.4068e-01],\n",
      "        [3.0042e-04, 3.0392e-04, 3.0097e-04, 8.6181e-03, 7.4949e-01, 5.8016e-01,\n",
      "         1.3581e-04, 3.0527e-04, 6.2808e-01],\n",
      "        [3.0630e-04, 3.0584e-04, 3.0344e-04, 1.0590e-02, 7.1100e-01, 5.8002e-01,\n",
      "         1.2530e-04, 3.0418e-04, 6.3388e-01],\n",
      "        [3.0082e-04, 2.9882e-04, 2.9856e-04, 1.1218e-02, 7.0810e-01, 5.8001e-01,\n",
      "         8.1486e-05, 3.0276e-04, 6.2449e-01],\n",
      "        [2.9683e-04, 2.9725e-04, 2.9711e-04, 8.9039e-03, 7.4232e-01, 5.8013e-01,\n",
      "         7.8858e-05, 3.0175e-04, 6.2894e-01],\n",
      "        [3.0069e-04, 2.9847e-04, 2.9851e-04, 8.4224e-03, 7.0833e-01, 5.8001e-01,\n",
      "         7.5353e-05, 3.0103e-04, 6.3546e-01],\n",
      "        [2.9459e-04, 2.9463e-04, 2.9478e-04, 7.9062e-03, 7.4025e-01, 5.8012e-01,\n",
      "         7.2724e-05, 3.0009e-04, 6.3075e-01],\n",
      "        [2.9784e-04, 2.9590e-04, 2.9671e-04, 2.1344e-02, 7.2533e-01, 5.8007e-01,\n",
      "         5.9581e-05, 2.9858e-04, 6.2583e-01],\n",
      "        [2.9503e-04, 2.9603e-04, 2.9557e-04, 8.1702e-03, 7.4216e-01, 5.8013e-01,\n",
      "         8.4991e-05, 2.9743e-04, 6.3345e-01]]) tensor([0.0003])\n"
     ]
    }
   ],
   "source": [
    "for ticker,context,target in train_data :\n",
    "    print(ticker,context,target)\n",
    "    break"
   ]
  },
  {
   "cell_type": "code",
   "execution_count": 5,
   "metadata": {},
   "outputs": [
    {
     "name": "stdout",
     "output_type": "stream",
     "text": [
      "85767 21487\n"
     ]
    }
   ],
   "source": [
    "print(len(train_data),len(test_data))\n"
   ]
  },
  {
   "cell_type": "code",
   "execution_count": 6,
   "metadata": {},
   "outputs": [],
   "source": [
    "import torch\n",
    "import torch.nn as nn\n",
    "from torch.utils.data import DataLoader, Dataset\n",
    "import pandas as pd\n",
    "from sklearn.model_selection import train_test_split\n",
    "from matplotlib import pyplot as plt\n",
    "from sklearn.preprocessing import MinMaxScaler\n"
   ]
  },
  {
   "cell_type": "code",
   "execution_count": 7,
   "metadata": {},
   "outputs": [],
   "source": [
    "train_loader = DataLoader(train_data, batch_size = 16, shuffle = True)\n",
    "test_laoder = DataLoader(test_data, batch_size =16, shuffle = False)"
   ]
  },
  {
   "cell_type": "code",
   "execution_count": 9,
   "metadata": {},
   "outputs": [
    {
     "name": "stdout",
     "output_type": "stream",
     "text": [
      "torch.Size([16, 10, 9])\n"
     ]
    }
   ],
   "source": [
    "for sample in train_loader :\n",
    "    print(sample[1].shape)\n",
    "    break"
   ]
  },
  {
   "cell_type": "code",
   "execution_count": null,
   "metadata": {},
   "outputs": [],
   "source": []
  }
 ],
 "metadata": {
  "kernelspec": {
   "display_name": "thesis_env",
   "language": "python",
   "name": "python3"
  },
  "language_info": {
   "codemirror_mode": {
    "name": "ipython",
    "version": 3
   },
   "file_extension": ".py",
   "mimetype": "text/x-python",
   "name": "python",
   "nbconvert_exporter": "python",
   "pygments_lexer": "ipython3",
   "version": "3.10.13"
  }
 },
 "nbformat": 4,
 "nbformat_minor": 2
}
