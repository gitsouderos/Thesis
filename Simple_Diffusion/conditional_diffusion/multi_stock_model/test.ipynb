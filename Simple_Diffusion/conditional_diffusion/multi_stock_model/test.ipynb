{
 "cells": [
  {
   "cell_type": "code",
   "execution_count": 1,
   "metadata": {},
   "outputs": [],
   "source": [
    "from dataset import load_all_stock_data\n",
    "import pandas as pd\n",
    "from dataset import ConditionalStockDataset"
   ]
  },
  {
   "cell_type": "code",
   "execution_count": 2,
   "metadata": {},
   "outputs": [
    {
     "name": "stdout",
     "output_type": "stream",
     "text": [
      "Loaded and processed data for 88 stocks\n"
     ]
    }
   ],
   "source": [
    "data_path = \"../../../price/raw/\"\n",
    "test = load_all_stock_data(data_path)"
   ]
  },
  {
   "cell_type": "code",
   "execution_count": 3,
   "metadata": {},
   "outputs": [
    {
     "name": "stdout",
     "output_type": "stream",
     "text": [
      "98.754288\n"
     ]
    }
   ],
   "source": [
    "df = test[\"AAPL\"]\n",
    "print(df[\"Close\"].iloc[3])"
   ]
  },
  {
   "cell_type": "code",
   "execution_count": 4,
   "metadata": {},
   "outputs": [],
   "source": [
    "context_len = 10\n",
    "feature_columns = [\"Open\",\"High\",\"Low\",\"Volume\",\"Return\",\"Diff\",\"HL_Diff\",\"MA5\",\"Return_MA5\"]\n",
    "target_column = [\"Close\"]\n",
    "data = ConditionalStockDataset(test,context_len,feature_columns,target_column)"
   ]
  },
  {
   "cell_type": "code",
   "execution_count": 8,
   "metadata": {},
   "outputs": [
    {
     "name": "stdout",
     "output_type": "stream",
     "text": [
      "BA tensor([[ 7.1190e+01,  7.1670e+01,  7.1150e+01,  3.9513e+06,  1.1237e-03,\n",
      "          7.9995e-02,  5.2000e-01,  7.1916e+01, -2.3527e-03],\n",
      "        [ 7.1430e+01,  7.1680e+01,  7.0800e+01,  4.4008e+06, -6.5799e-03,\n",
      "         -4.7000e-01,  8.8000e-01,  7.1996e+01, -3.6576e-04],\n",
      "        [ 7.0680e+01,  7.1990e+01,  7.0440e+01,  5.3141e+06,  1.2733e-02,\n",
      "          9.0000e-01,  1.5500e+00,  7.1804e+01, -3.1948e-03],\n",
      "        [ 7.2020e+01,  7.2430e+01,  7.1000e+01,  6.5302e+06, -1.0275e-02,\n",
      "         -7.4000e-01,  1.4300e+00,  7.1556e+01, -1.8917e-03],\n",
      "        [ 7.0770e+01,  7.0820e+01,  6.9890e+01,  6.9172e+06, -1.2011e-02,\n",
      "         -8.5000e-01,  9.3000e-01,  7.1234e+01, -4.0015e-03],\n",
      "        [ 6.9860e+01,  7.0460e+01,  6.9560e+01,  5.4903e+06,  8.4454e-03,\n",
      "          5.9000e-01,  9.0000e-01,  7.1002e+01, -3.0017e-03],\n",
      "        [ 7.0740e+01,  7.0740e+01,  6.9880e+01,  5.1934e+06, -1.1874e-02,\n",
      "         -8.4000e-01,  8.6000e-01,  7.0838e+01, -1.5373e-03],\n",
      "        [ 6.9350e+01,  6.9860e+01,  6.9030e+01,  4.8751e+06,  7.2098e-03,\n",
      "          5.0000e-01,  8.3000e-01,  7.0626e+01, -2.5962e-03],\n",
      "        [ 7.0090e+01,  7.0150e+01,  6.9470e+01,  1.3161e+07, -1.7120e-03,\n",
      "         -1.1999e-01,  6.8000e-01,  7.0280e+01, -3.7010e-03]]) tensor([69.3800])\n"
     ]
    }
   ],
   "source": [
    "for ticker,context,target in data :\n",
    "    print(ticker,context,target)\n",
    "    break"
   ]
  },
  {
   "cell_type": "code",
   "execution_count": null,
   "metadata": {},
   "outputs": [],
   "source": [
    "import torch\n",
    "import torch.nn as nn\n",
    "from torch.utils.data import DataLoader, Dataset\n",
    "import pandas as pd\n",
    "from sklearn.model_selection import train_test_split\n",
    "from matplotlib import pyplot as plt\n",
    "from sklearn.preprocessing import MinMaxScaler\n",
    "from multi_stock_input_modules import run_reverse_diffusion\n",
    "from dataset import ConditionalStockDataset"
   ]
  },
  {
   "cell_type": "code",
   "execution_count": null,
   "metadata": {},
   "outputs": [],
   "source": []
  }
 ],
 "metadata": {
  "kernelspec": {
   "display_name": "thesis_env",
   "language": "python",
   "name": "python3"
  },
  "language_info": {
   "codemirror_mode": {
    "name": "ipython",
    "version": 3
   },
   "file_extension": ".py",
   "mimetype": "text/x-python",
   "name": "python",
   "nbconvert_exporter": "python",
   "pygments_lexer": "ipython3",
   "version": "3.10.13"
  }
 },
 "nbformat": 4,
 "nbformat_minor": 2
}
