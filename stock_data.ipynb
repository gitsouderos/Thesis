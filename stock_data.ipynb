{
 "cells": [
  {
   "cell_type": "code",
   "execution_count": 11,
   "metadata": {},
   "outputs": [],
   "source": [
    "import torch\n",
    "import torch.nn as nn\n",
    "from torch.utils.data import DataLoader, Dataset\n",
    "import pandas as pd\n",
    "from stock_LSTM import StockLSTM\n",
    "from dataset_creation import StockDataset\n",
    "from sklearn.model_selection import train_test_split\n",
    "from matplotlib import pyplot as plt"
   ]
  },
  {
   "cell_type": "code",
   "execution_count": 3,
   "metadata": {},
   "outputs": [],
   "source": [
    "base_path = \"price/raw\"\n",
    "df = pd.read_csv(f\"{base_path}/AAPL.csv\")\n",
    "print(len(df))"
   ]
  },
  {
   "cell_type": "code",
   "execution_count": 5,
   "metadata": {},
   "outputs": [
    {
     "data": {
      "text/html": [
       "<div>\n",
       "<style scoped>\n",
       "    .dataframe tbody tr th:only-of-type {\n",
       "        vertical-align: middle;\n",
       "    }\n",
       "\n",
       "    .dataframe tbody tr th {\n",
       "        vertical-align: top;\n",
       "    }\n",
       "\n",
       "    .dataframe thead th {\n",
       "        text-align: right;\n",
       "    }\n",
       "</style>\n",
       "<table border=\"1\" class=\"dataframe\">\n",
       "  <thead>\n",
       "    <tr style=\"text-align: right;\">\n",
       "      <th></th>\n",
       "      <th>Date</th>\n",
       "      <th>Open</th>\n",
       "      <th>High</th>\n",
       "      <th>Low</th>\n",
       "      <th>Close</th>\n",
       "      <th>Adj Close</th>\n",
       "      <th>Volume</th>\n",
       "    </tr>\n",
       "  </thead>\n",
       "  <tbody>\n",
       "    <tr>\n",
       "      <th>0</th>\n",
       "      <td>2012-09-04</td>\n",
       "      <td>95.108574</td>\n",
       "      <td>96.448570</td>\n",
       "      <td>94.928574</td>\n",
       "      <td>96.424286</td>\n",
       "      <td>87.121140</td>\n",
       "      <td>91973000</td>\n",
       "    </tr>\n",
       "    <tr>\n",
       "      <th>1</th>\n",
       "      <td>2012-09-05</td>\n",
       "      <td>96.510002</td>\n",
       "      <td>96.621429</td>\n",
       "      <td>95.657143</td>\n",
       "      <td>95.747147</td>\n",
       "      <td>86.509338</td>\n",
       "      <td>84093800</td>\n",
       "    </tr>\n",
       "    <tr>\n",
       "      <th>2</th>\n",
       "      <td>2012-09-06</td>\n",
       "      <td>96.167145</td>\n",
       "      <td>96.898575</td>\n",
       "      <td>95.828575</td>\n",
       "      <td>96.610001</td>\n",
       "      <td>87.288956</td>\n",
       "      <td>97799100</td>\n",
       "    </tr>\n",
       "    <tr>\n",
       "      <th>3</th>\n",
       "      <td>2012-09-07</td>\n",
       "      <td>96.864288</td>\n",
       "      <td>97.497147</td>\n",
       "      <td>96.538574</td>\n",
       "      <td>97.205711</td>\n",
       "      <td>87.827171</td>\n",
       "      <td>82416600</td>\n",
       "    </tr>\n",
       "    <tr>\n",
       "      <th>4</th>\n",
       "      <td>2012-09-10</td>\n",
       "      <td>97.207146</td>\n",
       "      <td>97.612854</td>\n",
       "      <td>94.585716</td>\n",
       "      <td>94.677139</td>\n",
       "      <td>85.542564</td>\n",
       "      <td>121999500</td>\n",
       "    </tr>\n",
       "  </tbody>\n",
       "</table>\n",
       "</div>"
      ],
      "text/plain": [
       "         Date       Open       High        Low      Close  Adj Close  \\\n",
       "0  2012-09-04  95.108574  96.448570  94.928574  96.424286  87.121140   \n",
       "1  2012-09-05  96.510002  96.621429  95.657143  95.747147  86.509338   \n",
       "2  2012-09-06  96.167145  96.898575  95.828575  96.610001  87.288956   \n",
       "3  2012-09-07  96.864288  97.497147  96.538574  97.205711  87.827171   \n",
       "4  2012-09-10  97.207146  97.612854  94.585716  94.677139  85.542564   \n",
       "\n",
       "      Volume  \n",
       "0   91973000  \n",
       "1   84093800  \n",
       "2   97799100  \n",
       "3   82416600  \n",
       "4  121999500  "
      ]
     },
     "execution_count": 5,
     "metadata": {},
     "output_type": "execute_result"
    }
   ],
   "source": [
    "df.head()"
   ]
  },
  {
   "cell_type": "code",
   "execution_count": 6,
   "metadata": {},
   "outputs": [],
   "source": [
    "stock_prices = df[\"Close\"].values\n",
    "train_data, test_data = train_test_split(stock_prices, test_size=0.2, shuffle=False)"
   ]
  },
  {
   "cell_type": "code",
   "execution_count": 8,
   "metadata": {},
   "outputs": [],
   "source": [
    "# Normalize the data\n",
    "min_price = train_data.min()\n",
    "max_price = train_data.max()\n",
    "\n",
    "# Normalize training and testing data\n",
    "train_data = (train_data - min_price) / (max_price - min_price)\n",
    "test_data = (test_data - min_price) / (max_price - min_price)"
   ]
  },
  {
   "cell_type": "code",
   "execution_count": 9,
   "metadata": {},
   "outputs": [],
   "source": [
    "seq_len = 5\n",
    "train_dataset = StockDataset(train_data, seq_len)\n",
    "test_dataset = StockDataset(test_data, seq_len)"
   ]
  },
  {
   "cell_type": "code",
   "execution_count": 14,
   "metadata": {},
   "outputs": [
    {
     "data": {
      "text/plain": [
       "(tensor([0.6727, 0.6723, 0.6809, 0.6441, 0.6131]), tensor(0.6431))"
      ]
     },
     "execution_count": 14,
     "metadata": {},
     "output_type": "execute_result"
    }
   ],
   "source": [
    "test_dataset[0]"
   ]
  },
  {
   "cell_type": "code",
   "execution_count": 12,
   "metadata": {},
   "outputs": [],
   "source": [
    "# Create DataLoaders\n",
    "batch_size = 32\n",
    "train_loader = DataLoader(train_dataset, batch_size=batch_size, shuffle=True)\n",
    "test_loader = DataLoader(test_dataset, batch_size=batch_size, shuffle=False)\n",
    "\n",
    "model = StockLSTM(input_size=1, hidden_size=128, num_layers=3)\n",
    "criterion = nn.MSELoss()\n",
    "optimizer = torch.optim.Adam(model.parameters(), lr=5e-3)"
   ]
  },
  {
   "cell_type": "code",
   "execution_count": 13,
   "metadata": {},
   "outputs": [
    {
     "name": "stderr",
     "output_type": "stream",
     "text": [
      "/home/giorgos-tsouderos/miniconda3/envs/thesis_env/lib/python3.10/site-packages/torch/nn/modules/loss.py:608: UserWarning: Using a target size (torch.Size([32])) that is different to the input size (torch.Size([32, 1])). This will likely lead to incorrect results due to broadcasting. Please ensure they have the same size.\n",
      "  return F.mse_loss(input, target, reduction=self.reduction)\n",
      "/home/giorgos-tsouderos/miniconda3/envs/thesis_env/lib/python3.10/site-packages/torch/nn/modules/loss.py:608: UserWarning: Using a target size (torch.Size([9])) that is different to the input size (torch.Size([9, 1])). This will likely lead to incorrect results due to broadcasting. Please ensure they have the same size.\n",
      "  return F.mse_loss(input, target, reduction=self.reduction)\n"
     ]
    },
    {
     "name": "stdout",
     "output_type": "stream",
     "text": [
      "Epoch 1/50, Loss: 0.05852566286921501\n",
      "Epoch 2/50, Loss: 0.08371272683143616\n",
      "Epoch 3/50, Loss: 0.052592966705560684\n",
      "Epoch 4/50, Loss: 0.10745000094175339\n",
      "Epoch 5/50, Loss: 0.07703503966331482\n",
      "Epoch 6/50, Loss: 0.09711732715368271\n",
      "Epoch 7/50, Loss: 0.07996734231710434\n",
      "Epoch 8/50, Loss: 0.0652841255068779\n",
      "Epoch 9/50, Loss: 0.06679433584213257\n",
      "Epoch 10/50, Loss: 0.07105420529842377\n",
      "Epoch 11/50, Loss: 0.08982448279857635\n",
      "Epoch 12/50, Loss: 0.11780156195163727\n",
      "Epoch 13/50, Loss: 0.056620121002197266\n",
      "Epoch 14/50, Loss: 0.10493162274360657\n",
      "Epoch 15/50, Loss: 0.07688020169734955\n",
      "Epoch 16/50, Loss: 0.047173015773296356\n",
      "Epoch 17/50, Loss: 0.11661282181739807\n",
      "Epoch 18/50, Loss: 0.10800004005432129\n",
      "Epoch 19/50, Loss: 0.13718140125274658\n",
      "Epoch 20/50, Loss: 0.1254539042711258\n",
      "Epoch 21/50, Loss: 0.07245249301195145\n",
      "Epoch 22/50, Loss: 0.11609623581171036\n",
      "Epoch 23/50, Loss: 0.10549739748239517\n",
      "Epoch 24/50, Loss: 0.04951610043644905\n",
      "Epoch 25/50, Loss: 0.07740601897239685\n",
      "Epoch 26/50, Loss: 0.03314848989248276\n",
      "Epoch 27/50, Loss: 0.044729024171829224\n",
      "Epoch 28/50, Loss: 0.0670342892408371\n",
      "Epoch 29/50, Loss: 0.0966799333691597\n",
      "Epoch 30/50, Loss: 0.06947290897369385\n",
      "Epoch 31/50, Loss: 0.10359770804643631\n",
      "Epoch 32/50, Loss: 0.11370044201612473\n",
      "Epoch 33/50, Loss: 0.07557554543018341\n",
      "Epoch 34/50, Loss: 0.09126405417919159\n",
      "Epoch 35/50, Loss: 0.1254846602678299\n",
      "Epoch 36/50, Loss: 0.046590447425842285\n",
      "Epoch 37/50, Loss: 0.0970194935798645\n",
      "Epoch 38/50, Loss: 0.088947594165802\n",
      "Epoch 39/50, Loss: 0.0879235565662384\n",
      "Epoch 40/50, Loss: 0.07171899080276489\n",
      "Epoch 41/50, Loss: 0.07086867839097977\n",
      "Epoch 42/50, Loss: 0.08088308572769165\n",
      "Epoch 43/50, Loss: 0.1038375198841095\n",
      "Epoch 44/50, Loss: 0.051410891115665436\n",
      "Epoch 45/50, Loss: 0.09455615282058716\n",
      "Epoch 46/50, Loss: 0.07320889830589294\n",
      "Epoch 47/50, Loss: 0.10036152601242065\n",
      "Epoch 48/50, Loss: 0.049475885927677155\n",
      "Epoch 49/50, Loss: 0.10532178729772568\n",
      "Epoch 50/50, Loss: 0.06576288491487503\n"
     ]
    }
   ],
   "source": [
    "# Train the model\n",
    "epochs = 50\n",
    "for epoch in range(epochs):\n",
    "    model.train()\n",
    "    for inputs, targets in train_loader:\n",
    "        inputs = inputs.unsqueeze(-1)\n",
    "        targets = targets.float()\n",
    "\n",
    "        optimizer.zero_grad()\n",
    "        outputs = model(inputs)\n",
    "        loss = criterion(outputs, targets)\n",
    "        loss.backward()\n",
    "        optimizer.step()\n",
    "\n",
    "    print(f\"Epoch {epoch + 1}/{epochs}, Loss: {loss.item()}\")\n",
    "\n",
    "# Test the model\n",
    "model.eval()\n",
    "predictions, actuals = [], []\n",
    "\n",
    "with torch.no_grad():\n",
    "    for inputs, targets in test_loader:\n",
    "        inputs = inputs.unsqueeze(-1)\n",
    "        targets = targets.float()\n",
    "\n",
    "        outputs = model(inputs)\n",
    "        predictions.extend(outputs.squeeze().numpy())\n",
    "        actuals.extend(targets.numpy())"
   ]
  },
  {
   "cell_type": "code",
   "execution_count": 15,
   "metadata": {},
   "outputs": [],
   "source": [
    "# Denormalize predictions\n",
    "predictions = [p * (max_price - min_price) + min_price for p in predictions]\n",
    "actuals = [a * (max_price - min_price) + min_price for a in actuals]"
   ]
  },
  {
   "cell_type": "code",
   "execution_count": 16,
   "metadata": {},
   "outputs": [
    {
     "data": {
      "image/png": "[encoded data removed]",
      "text/plain": [
       "<Figure size 1000x600 with 1 Axes>"
      ]
     },
     "metadata": {},
     "output_type": "display_data"
    }
   ],
   "source": [
    "# Visualize results\n",
    "plt.figure(figsize=(10, 6))\n",
    "plt.plot(actuals, label='Actual Prices', marker='o')\n",
    "plt.plot(predictions, label='Predicted Prices', marker='x')\n",
    "plt.title('Stock Price Prediction')\n",
    "plt.xlabel('Time')\n",
    "plt.ylabel('Stock Price')\n",
    "plt.legend()\n",
    "plt.show()"
   ]
  },
  {
   "cell_type": "code",
   "execution_count": null,
   "metadata": {},
   "outputs": [],
   "source": []
  }
 ],
 "metadata": {
  "kernelspec": {
   "display_name": "thesis_env",
   "language": "python",
   "name": "python3"
  },
  "language_info": {
   "codemirror_mode": {
    "name": "ipython",
    "version": 3
   },
   "file_extension": ".py",
   "mimetype": "text/x-python",
   "name": "python",
   "nbconvert_exporter": "python",
   "pygments_lexer": "ipython3",
   "version": "3.10.13"
  }
 },
 "nbformat": 4,
 "nbformat_minor": 2
}
