{
 "cells": [
  {
   "cell_type": "markdown",
   "metadata": {},
   "source": [
    "# Import libraries and modules"
   ]
  },
  {
   "cell_type": "code",
   "execution_count": 1,
   "metadata": {},
   "outputs": [],
   "source": [
    "import torch\n",
    "import torch.nn as nn\n",
    "from torch.utils.data import DataLoader, Dataset\n",
    "import pandas as pd\n",
    "from stock_LSTM import StockLSTM\n",
    "from dataset_creation import StockDataset\n",
    "from sklearn.model_selection import train_test_split\n",
    "from matplotlib import pyplot as plt"
   ]
  },
  {
   "cell_type": "markdown",
   "metadata": {},
   "source": [
    "# Load Dataset"
   ]
  },
  {
   "cell_type": "code",
   "execution_count": 2,
   "metadata": {},
   "outputs": [
    {
     "name": "stdout",
     "output_type": "stream",
     "text": [
      "1258\n"
     ]
    }
   ],
   "source": [
    "base_path = \"price/raw\"\n",
    "df = pd.read_csv(f\"{base_path}/AAPL.csv\")\n",
    "print(len(df))"
   ]
  },
  {
   "cell_type": "code",
   "execution_count": 3,
   "metadata": {},
   "outputs": [
    {
     "data": {
      "text/html": [
       "<div>\n",
       "<style scoped>\n",
       "    .dataframe tbody tr th:only-of-type {\n",
       "        vertical-align: middle;\n",
       "    }\n",
       "\n",
       "    .dataframe tbody tr th {\n",
       "        vertical-align: top;\n",
       "    }\n",
       "\n",
       "    .dataframe thead th {\n",
       "        text-align: right;\n",
       "    }\n",
       "</style>\n",
       "<table border=\"1\" class=\"dataframe\">\n",
       "  <thead>\n",
       "    <tr style=\"text-align: right;\">\n",
       "      <th></th>\n",
       "      <th>Date</th>\n",
       "      <th>Open</th>\n",
       "      <th>High</th>\n",
       "      <th>Low</th>\n",
       "      <th>Close</th>\n",
       "      <th>Adj Close</th>\n",
       "      <th>Volume</th>\n",
       "    </tr>\n",
       "  </thead>\n",
       "  <tbody>\n",
       "    <tr>\n",
       "      <th>0</th>\n",
       "      <td>2012-09-04</td>\n",
       "      <td>95.108574</td>\n",
       "      <td>96.448570</td>\n",
       "      <td>94.928574</td>\n",
       "      <td>96.424286</td>\n",
       "      <td>87.121140</td>\n",
       "      <td>91973000</td>\n",
       "    </tr>\n",
       "    <tr>\n",
       "      <th>1</th>\n",
       "      <td>2012-09-05</td>\n",
       "      <td>96.510002</td>\n",
       "      <td>96.621429</td>\n",
       "      <td>95.657143</td>\n",
       "      <td>95.747147</td>\n",
       "      <td>86.509338</td>\n",
       "      <td>84093800</td>\n",
       "    </tr>\n",
       "    <tr>\n",
       "      <th>2</th>\n",
       "      <td>2012-09-06</td>\n",
       "      <td>96.167145</td>\n",
       "      <td>96.898575</td>\n",
       "      <td>95.828575</td>\n",
       "      <td>96.610001</td>\n",
       "      <td>87.288956</td>\n",
       "      <td>97799100</td>\n",
       "    </tr>\n",
       "    <tr>\n",
       "      <th>3</th>\n",
       "      <td>2012-09-07</td>\n",
       "      <td>96.864288</td>\n",
       "      <td>97.497147</td>\n",
       "      <td>96.538574</td>\n",
       "      <td>97.205711</td>\n",
       "      <td>87.827171</td>\n",
       "      <td>82416600</td>\n",
       "    </tr>\n",
       "    <tr>\n",
       "      <th>4</th>\n",
       "      <td>2012-09-10</td>\n",
       "      <td>97.207146</td>\n",
       "      <td>97.612854</td>\n",
       "      <td>94.585716</td>\n",
       "      <td>94.677139</td>\n",
       "      <td>85.542564</td>\n",
       "      <td>121999500</td>\n",
       "    </tr>\n",
       "  </tbody>\n",
       "</table>\n",
       "</div>"
      ],
      "text/plain": [
       "         Date       Open       High        Low      Close  Adj Close  \\\n",
       "0  2012-09-04  95.108574  96.448570  94.928574  96.424286  87.121140   \n",
       "1  2012-09-05  96.510002  96.621429  95.657143  95.747147  86.509338   \n",
       "2  2012-09-06  96.167145  96.898575  95.828575  96.610001  87.288956   \n",
       "3  2012-09-07  96.864288  97.497147  96.538574  97.205711  87.827171   \n",
       "4  2012-09-10  97.207146  97.612854  94.585716  94.677139  85.542564   \n",
       "\n",
       "      Volume  \n",
       "0   91973000  \n",
       "1   84093800  \n",
       "2   97799100  \n",
       "3   82416600  \n",
       "4  121999500  "
      ]
     },
     "execution_count": 3,
     "metadata": {},
     "output_type": "execute_result"
    }
   ],
   "source": [
    "df.head()"
   ]
  },
  {
   "cell_type": "code",
   "execution_count": 4,
   "metadata": {},
   "outputs": [],
   "source": [
    "from sklearn.preprocessing import MinMaxScaler\n",
    "scaler = MinMaxScaler()\n",
    "df[['Open','High','Low','Close','Volume']] = scaler.fit_transform(df[['Open','High','Low','Close','Volume']])"
   ]
  },
  {
   "cell_type": "code",
   "execution_count": 16,
   "metadata": {},
   "outputs": [
    {
     "data": {
      "text/html": [
       "<div>\n",
       "<style scoped>\n",
       "    .dataframe tbody tr th:only-of-type {\n",
       "        vertical-align: middle;\n",
       "    }\n",
       "\n",
       "    .dataframe tbody tr th {\n",
       "        vertical-align: top;\n",
       "    }\n",
       "\n",
       "    .dataframe thead th {\n",
       "        text-align: right;\n",
       "    }\n",
       "</style>\n",
       "<table border=\"1\" class=\"dataframe\">\n",
       "  <thead>\n",
       "    <tr style=\"text-align: right;\">\n",
       "      <th></th>\n",
       "      <th>Date</th>\n",
       "      <th>Open</th>\n",
       "      <th>High</th>\n",
       "      <th>Low</th>\n",
       "      <th>Close</th>\n",
       "      <th>Adj Close</th>\n",
       "      <th>Volume</th>\n",
       "    </tr>\n",
       "  </thead>\n",
       "  <tbody>\n",
       "    <tr>\n",
       "      <th>0</th>\n",
       "      <td>2012-09-04</td>\n",
       "      <td>0.362825</td>\n",
       "      <td>0.364963</td>\n",
       "      <td>0.367482</td>\n",
       "      <td>0.375340</td>\n",
       "      <td>87.121140</td>\n",
       "      <td>0.227562</td>\n",
       "    </tr>\n",
       "    <tr>\n",
       "      <th>1</th>\n",
       "      <td>2012-09-05</td>\n",
       "      <td>0.375638</td>\n",
       "      <td>0.366566</td>\n",
       "      <td>0.374189</td>\n",
       "      <td>0.369085</td>\n",
       "      <td>86.509338</td>\n",
       "      <td>0.205288</td>\n",
       "    </tr>\n",
       "    <tr>\n",
       "      <th>2</th>\n",
       "      <td>2012-09-06</td>\n",
       "      <td>0.372504</td>\n",
       "      <td>0.369136</td>\n",
       "      <td>0.375768</td>\n",
       "      <td>0.377055</td>\n",
       "      <td>87.288956</td>\n",
       "      <td>0.244032</td>\n",
       "    </tr>\n",
       "    <tr>\n",
       "      <th>3</th>\n",
       "      <td>2012-09-07</td>\n",
       "      <td>0.378878</td>\n",
       "      <td>0.374685</td>\n",
       "      <td>0.382305</td>\n",
       "      <td>0.382558</td>\n",
       "      <td>87.827171</td>\n",
       "      <td>0.200546</td>\n",
       "    </tr>\n",
       "    <tr>\n",
       "      <th>4</th>\n",
       "      <td>2012-09-10</td>\n",
       "      <td>0.382012</td>\n",
       "      <td>0.375758</td>\n",
       "      <td>0.364325</td>\n",
       "      <td>0.359201</td>\n",
       "      <td>85.542564</td>\n",
       "      <td>0.312446</td>\n",
       "    </tr>\n",
       "  </tbody>\n",
       "</table>\n",
       "</div>"
      ],
      "text/plain": [
       "         Date      Open      High       Low     Close  Adj Close    Volume\n",
       "0  2012-09-04  0.362825  0.364963  0.367482  0.375340  87.121140  0.227562\n",
       "1  2012-09-05  0.375638  0.366566  0.374189  0.369085  86.509338  0.205288\n",
       "2  2012-09-06  0.372504  0.369136  0.375768  0.377055  87.288956  0.244032\n",
       "3  2012-09-07  0.378878  0.374685  0.382305  0.382558  87.827171  0.200546\n",
       "4  2012-09-10  0.382012  0.375758  0.364325  0.359201  85.542564  0.312446"
      ]
     },
     "execution_count": 16,
     "metadata": {},
     "output_type": "execute_result"
    }
   ],
   "source": [
    "df.head()"
   ]
  },
  {
   "cell_type": "markdown",
   "metadata": {},
   "source": [
    "# Prepare dataset"
   ]
  },
  {
   "cell_type": "code",
   "execution_count": 24,
   "metadata": {},
   "outputs": [],
   "source": [
    "feature_columns = ['Open','High','Low','Close','Volume']\n",
    "# feature_columns = ['Close']\n",
    "filtered_df = df[feature_columns]\n",
    "seq_len = 4\n",
    "train_size = int(len(filtered_df) * 0.8)\n",
    "train_data = filtered_df.iloc[:train_size]\n",
    "test_data = filtered_df.iloc[train_size:]\n"
   ]
  },
  {
   "cell_type": "code",
   "execution_count": 25,
   "metadata": {},
   "outputs": [
    {
     "name": "stdout",
     "output_type": "stream",
     "text": [
      "Datasets created successfully!\n"
     ]
    }
   ],
   "source": [
    "try:\n",
    "    train_dataset = StockDataset(train_data, seq_len, feature_columns)\n",
    "    test_dataset = StockDataset(test_data, seq_len, feature_columns)\n",
    "    print(\"Datasets created successfully!\")\n",
    "except Exception as e:\n",
    "    print(f\"Error creating dataset: {e}\")"
   ]
  },
  {
   "cell_type": "code",
   "execution_count": 26,
   "metadata": {},
   "outputs": [
    {
     "data": {
      "text/plain": [
       "(tensor([[0.3628, 0.3650, 0.3675, 0.3753, 0.2276],\n",
       "         [0.3756, 0.3666, 0.3742, 0.3691, 0.2053],\n",
       "         [0.3725, 0.3691, 0.3758, 0.3771, 0.2440],\n",
       "         [0.3789, 0.3747, 0.3823, 0.3826, 0.2005]]),\n",
       " tensor(0.3592))"
      ]
     },
     "execution_count": 26,
     "metadata": {},
     "output_type": "execute_result"
    }
   ],
   "source": [
    "train_dataset[0]"
   ]
  },
  {
   "cell_type": "code",
   "execution_count": 27,
   "metadata": {},
   "outputs": [],
   "source": [
    "# Create DataLoaders\n",
    "batch_size = 32\n",
    "train_loader = DataLoader(train_dataset, batch_size=batch_size, shuffle=True)\n",
    "test_loader = DataLoader(test_dataset, batch_size=batch_size, shuffle=False)\n",
    "\n"
   ]
  },
  {
   "cell_type": "markdown",
   "metadata": {},
   "source": [
    "# Model initialization"
   ]
  },
  {
   "cell_type": "code",
   "execution_count": 45,
   "metadata": {},
   "outputs": [],
   "source": [
    "input_size = len(feature_columns)\n",
    "hidden_size = 128\n",
    "num_layers = 3\n",
    "\n",
    "model = StockLSTM(input_size=input_size, hidden_size=hidden_size, num_layers=num_layers)\n",
    "criterion = nn.MSELoss()\n",
    "optimizer = torch.optim.Adam(model.parameters(), lr=1e-3)"
   ]
  },
  {
   "cell_type": "code",
   "execution_count": 43,
   "metadata": {},
   "outputs": [
    {
     "name": "stdout",
     "output_type": "stream",
     "text": [
      "Epoch 1/50, Loss: 0.009544508531689644\n",
      "Epoch 2/50, Loss: 0.0008745969389565289\n",
      "Epoch 3/50, Loss: 0.0020320711191743612\n",
      "Epoch 4/50, Loss: 0.000759194721467793\n",
      "Epoch 5/50, Loss: 0.0008890377357602119\n",
      "Epoch 6/50, Loss: 0.0007490693824365735\n",
      "Epoch 7/50, Loss: 0.0004886604729108512\n",
      "Epoch 8/50, Loss: 6.669204594800249e-05\n",
      "Epoch 9/50, Loss: 0.00019619576050899923\n",
      "Epoch 10/50, Loss: 0.00020372201106511056\n",
      "Epoch 11/50, Loss: 0.00048692175187170506\n",
      "Epoch 12/50, Loss: 0.0008879567612893879\n",
      "Epoch 13/50, Loss: 0.0009778542444109917\n",
      "Epoch 14/50, Loss: 0.0005970185738988221\n",
      "Epoch 15/50, Loss: 0.00036651999107562006\n",
      "Epoch 16/50, Loss: 0.0005159220891073346\n",
      "Epoch 17/50, Loss: 0.0005351532017812133\n",
      "Epoch 18/50, Loss: 0.0002583533641882241\n",
      "Epoch 19/50, Loss: 0.0004406780353747308\n",
      "Epoch 20/50, Loss: 0.0006025167531333864\n",
      "Epoch 21/50, Loss: 0.0009264739928767085\n",
      "Epoch 22/50, Loss: 0.0005570483626797795\n",
      "Epoch 23/50, Loss: 0.0007057121256366372\n",
      "Epoch 24/50, Loss: 0.00028912650304846466\n",
      "Epoch 25/50, Loss: 0.0003424761525820941\n",
      "Epoch 26/50, Loss: 0.0006086964858695865\n",
      "Epoch 27/50, Loss: 0.0005743022193200886\n",
      "Epoch 28/50, Loss: 0.0006939259474165738\n",
      "Epoch 29/50, Loss: 0.00031364549067802727\n",
      "Epoch 30/50, Loss: 0.0007451915298588574\n",
      "Epoch 31/50, Loss: 0.0007105561089701951\n",
      "Epoch 32/50, Loss: 0.0006820458802394569\n",
      "Epoch 33/50, Loss: 0.0009072560933418572\n",
      "Epoch 34/50, Loss: 0.00022669979080092162\n",
      "Epoch 35/50, Loss: 0.0008334660669788718\n",
      "Epoch 36/50, Loss: 0.0010897760512307286\n",
      "Epoch 37/50, Loss: 0.0006570882978849113\n",
      "Epoch 38/50, Loss: 0.0009814633522182703\n",
      "Epoch 39/50, Loss: 0.00012343880371190608\n",
      "Epoch 40/50, Loss: 0.000719076837413013\n",
      "Epoch 41/50, Loss: 0.00016349463840015233\n",
      "Epoch 42/50, Loss: 0.0010078391060233116\n",
      "Epoch 43/50, Loss: 0.0003385382005944848\n",
      "Epoch 44/50, Loss: 0.00010349752847105265\n",
      "Epoch 45/50, Loss: 0.000529470038600266\n",
      "Epoch 46/50, Loss: 0.0005236705183051527\n",
      "Epoch 47/50, Loss: 0.0002915174118243158\n",
      "Epoch 48/50, Loss: 0.00044506642734631896\n",
      "Epoch 49/50, Loss: 0.0009688650025054812\n",
      "Epoch 50/50, Loss: 0.0003179128107149154\n"
     ]
    }
   ],
   "source": [
    "epochs = 50\n",
    "for epoch in range(epochs):\n",
    "    model.train()\n",
    "    for inputs, targets in train_loader:\n",
    "        optimizer.zero_grad()\n",
    "        outputs = model(inputs)\n",
    "        loss = criterion(outputs.squeeze(), targets)\n",
    "        loss.backward()\n",
    "        optimizer.step()\n",
    "    print(f\"Epoch {epoch+1}/{epochs}, Loss: {loss.item()}\")\n",
    "\n",
    "# Test the model\n",
    "model.eval()\n",
    "predictions, actuals = [], []\n",
    "with torch.no_grad():\n",
    "    for inputs, targets in test_loader:\n",
    "        outputs = model(inputs)\n",
    "        predictions.extend(outputs.squeeze().numpy())\n",
    "        actuals.extend(targets.numpy())"
   ]
  },
  {
   "cell_type": "code",
   "execution_count": 48,
   "metadata": {},
   "outputs": [
    {
     "data": {
      "image/png": "[encoded data removed]",
      "text/plain": [
       "<Figure size 1000x600 with 1 Axes>"
      ]
     },
     "metadata": {},
     "output_type": "display_data"
    }
   ],
   "source": [
    "# Visualize results\n",
    "plt.figure(figsize=(10, 6))\n",
    "plt.plot(actuals, label='Actual Prices', marker='o')\n",
    "plt.plot(predictions, label='Predicted Prices', marker='x')\n",
    "plt.title(f'Stock Price Prediction - Hidden size :{hidden_size}, Num of layers:{ num_layers}')\n",
    "plt.xlabel('Time')\n",
    "plt.ylabel('Stock Price')\n",
    "plt.legend()\n",
    "plt.show()\n"
   ]
  },
  {
   "cell_type": "code",
   "execution_count": null,
   "metadata": {},
   "outputs": [],
   "source": []
  }
 ],
 "metadata": {
  "kernelspec": {
   "display_name": "thesis_env",
   "language": "python",
   "name": "python3"
  },
  "language_info": {
   "codemirror_mode": {
    "name": "ipython",
    "version": 3
   },
   "file_extension": ".py",
   "mimetype": "text/x-python",
   "name": "python",
   "nbconvert_exporter": "python",
   "pygments_lexer": "ipython3",
   "version": "3.10.13"
  }
 },
 "nbformat": 4,
 "nbformat_minor": 2
}
