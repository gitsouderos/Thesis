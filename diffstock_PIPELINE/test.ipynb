{
 "cells": [
  {
   "cell_type": "code",
   "execution_count": 1,
   "metadata": {},
   "outputs": [],
   "source": [
    "from feature_engineering import *\n",
    "from corr_matrix import compute_stock_relation_matrix"
   ]
  },
  {
   "cell_type": "code",
   "execution_count": 2,
   "metadata": {},
   "outputs": [],
   "source": [
    "import os\n",
    "import pandas as pd\n",
    "import numpy as np"
   ]
  },
  {
   "cell_type": "code",
   "execution_count": 3,
   "metadata": {},
   "outputs": [
    {
     "name": "stdout",
     "output_type": "stream",
     "text": [
      "Loaded and processed data for BA: 1253 records.\n",
      "Loaded and processed data for PCLN: 1253 records.\n",
      "Loaded and processed data for GOOG: 1253 records.\n",
      "Loaded and processed data for PPL: 1253 records.\n",
      "Loaded and processed data for NGG: 1253 records.\n",
      "Loaded and processed data for GMRE: 292 records.\n",
      "Loaded and processed data for UNH: 1253 records.\n",
      "Loaded and processed data for HRG: 1253 records.\n",
      "Loaded and processed data for WMT: 1253 records.\n",
      "Loaded and processed data for MSFT: 1253 records.\n",
      "Loaded and processed data for AMGN: 1253 records.\n",
      "Loaded and processed data for PFE: 1253 records.\n",
      "Loaded and processed data for T: 1253 records.\n",
      "Loaded and processed data for KO: 1253 records.\n",
      "Loaded and processed data for EXC: 1253 records.\n",
      "Loaded and processed data for SO: 1253 records.\n",
      "Loaded and processed data for GD: 1253 records.\n",
      "Loaded and processed data for AAPL: 1253 records.\n",
      "Loaded and processed data for PM: 1253 records.\n",
      "Loaded and processed data for TM: 1253 records.\n",
      "Loaded and processed data for AMZN: 1253 records.\n",
      "Loaded and processed data for PICO: 1253 records.\n",
      "Loaded and processed data for BHP: 1253 records.\n",
      "Loaded and processed data for SNY: 1253 records.\n",
      "Loaded and processed data for UPS: 1253 records.\n",
      "Loaded and processed data for RDS-B: 1253 records.\n",
      "Loaded and processed data for ORCL: 1253 records.\n",
      "Loaded and processed data for PG: 1253 records.\n",
      "Loaded and processed data for MRK: 1253 records.\n",
      "Loaded and processed data for UN: 1253 records.\n",
      "Loaded and processed data for MO: 1253 records.\n",
      "Loaded and processed data for SRE: 1253 records.\n",
      "Loaded and processed data for UL: 1253 records.\n",
      "Loaded and processed data for JPM: 1253 records.\n",
      "Loaded and processed data for BSAC: 1253 records.\n",
      "Loaded and processed data for CHL: 1253 records.\n",
      "Loaded and processed data for WFC: 1253 records.\n",
      "Loaded and processed data for MA: 1253 records.\n",
      "Loaded and processed data for INTC: 1253 records.\n",
      "Loaded and processed data for MCD: 1253 records.\n",
      "Loaded and processed data for JNJ: 1253 records.\n",
      "Loaded and processed data for CAT: 1253 records.\n",
      "Loaded and processed data for NVS: 1253 records.\n",
      "Loaded and processed data for REX: 1247 records.\n",
      "Loaded and processed data for BBL: 1253 records.\n",
      "Loaded and processed data for BP: 1253 records.\n",
      "Loaded and processed data for NEE: 1253 records.\n",
      "Loaded and processed data for TOT: 1253 records.\n",
      "Loaded and processed data for ABB: 1253 records.\n",
      "Loaded and processed data for PEP: 1253 records.\n",
      "Loaded and processed data for DHR: 1253 records.\n",
      "Loaded and processed data for BUD: 1253 records.\n",
      "Loaded and processed data for PTR: 1247 records.\n",
      "Loaded and processed data for C: 1253 records.\n",
      "Loaded and processed data for HSBC: 1253 records.\n",
      "Loaded and processed data for TSM: 1253 records.\n",
      "Loaded and processed data for DIS: 1253 records.\n",
      "Loaded and processed data for MMM: 1253 records.\n",
      "Loaded and processed data for MDT: 1253 records.\n",
      "Loaded and processed data for SPLP: 1253 records.\n",
      "Loaded and processed data for GE: 1253 records.\n",
      "Loaded and processed data for CELG: 1253 records.\n",
      "Loaded and processed data for VZ: 1253 records.\n",
      "Loaded and processed data for BCH: 1253 records.\n",
      "Loaded and processed data for XOM: 1253 records.\n",
      "Loaded and processed data for HON: 1253 records.\n",
      "Loaded and processed data for PCG: 1253 records.\n",
      "Loaded and processed data for CVX: 1253 records.\n",
      "Loaded and processed data for HD: 1253 records.\n",
      "Loaded and processed data for UTX: 1253 records.\n",
      "Loaded and processed data for AGFS: 696 records.\n",
      "Loaded and processed data for IEP: 1253 records.\n",
      "Loaded and processed data for D: 1253 records.\n",
      "Loaded and processed data for CMCSA: 1253 records.\n",
      "Loaded and processed data for BABA: 740 records.\n",
      "Loaded and processed data for V: 1253 records.\n",
      "Loaded and processed data for BAC: 1253 records.\n",
      "Loaded and processed data for BRK-A: 1253 records.\n",
      "Loaded and processed data for FB: 1253 records.\n",
      "Loaded and processed data for SNP: 1247 records.\n",
      "Loaded and processed data for CSCO: 1253 records.\n",
      "Loaded and processed data for AEP: 1253 records.\n",
      "Loaded and processed data for SLB: 1253 records.\n",
      "Loaded and processed data for DUK: 1253 records.\n",
      "Loaded and processed data for ABBV: 1172 records.\n",
      "Loaded and processed data for CHTR: 1253 records.\n",
      "Loaded and processed data for LMT: 1253 records.\n",
      "Loaded and processed data for CODI: 1253 records.\n"
     ]
    }
   ],
   "source": [
    "base_path = \"../price/raw\"\n",
    "test = load_all_stock_data(base_path)"
   ]
  },
  {
   "cell_type": "code",
   "execution_count": 5,
   "metadata": {},
   "outputs": [],
   "source": [
    "tinkers,relation_matrix = compute_stock_relation_matrix(test)"
   ]
  },
  {
   "cell_type": "code",
   "execution_count": 6,
   "metadata": {},
   "outputs": [
    {
     "data": {
      "text/plain": [
       "array([[[1.],\n",
       "        [0.],\n",
       "        [0.],\n",
       "        ...,\n",
       "        [0.],\n",
       "        [0.],\n",
       "        [0.]],\n",
       "\n",
       "       [[0.],\n",
       "        [1.],\n",
       "        [1.],\n",
       "        ...,\n",
       "        [0.],\n",
       "        [0.],\n",
       "        [0.]],\n",
       "\n",
       "       [[0.],\n",
       "        [1.],\n",
       "        [1.],\n",
       "        ...,\n",
       "        [0.],\n",
       "        [0.],\n",
       "        [0.]],\n",
       "\n",
       "       ...,\n",
       "\n",
       "       [[0.],\n",
       "        [0.],\n",
       "        [0.],\n",
       "        ...,\n",
       "        [1.],\n",
       "        [0.],\n",
       "        [0.]],\n",
       "\n",
       "       [[0.],\n",
       "        [0.],\n",
       "        [0.],\n",
       "        ...,\n",
       "        [0.],\n",
       "        [1.],\n",
       "        [0.]],\n",
       "\n",
       "       [[0.],\n",
       "        [0.],\n",
       "        [0.],\n",
       "        ...,\n",
       "        [0.],\n",
       "        [0.],\n",
       "        [1.]]])"
      ]
     },
     "execution_count": 6,
     "metadata": {},
     "output_type": "execute_result"
    }
   ],
   "source": [
    "relation_matrix"
   ]
  },
  {
   "cell_type": "code",
   "execution_count": null,
   "metadata": {},
   "outputs": [],
   "source": []
  }
 ],
 "metadata": {
  "kernelspec": {
   "display_name": "thesis_env",
   "language": "python",
   "name": "python3"
  },
  "language_info": {
   "codemirror_mode": {
    "name": "ipython",
    "version": 3
   },
   "file_extension": ".py",
   "mimetype": "text/x-python",
   "name": "python",
   "nbconvert_exporter": "python",
   "pygments_lexer": "ipython3",
   "version": "3.10.13"
  }
 },
 "nbformat": 4,
 "nbformat_minor": 2
}
