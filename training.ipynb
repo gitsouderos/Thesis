{
 "cells": [
  {
   "cell_type": "code",
   "execution_count": null,
   "metadata": {},
   "outputs": [],
   "source": [
    "import torch\n",
    "import torch.nn as nn\n",
    "import torch.nn.functional as F\n",
    "from conditional_diffusion_model import ConditionalDiffusionModel, forward_diffusion_sample\n",
    "\n",
    "\n",
    "\n",
    "# Hyperparameters for demonstration\n",
    "input_dim = 5       # e.g., 5 financial indicators per day\n",
    "hidden_dim = 32\n",
    "kernel_size = 3\n",
    "dilation_rates = [1, 2, 4]\n",
    "num_heads = 4\n",
    "num_diffusion_steps = 100  # Total diffusion steps (T)\n",
    "betas = torch.linspace(0.0001, 0.02, num_diffusion_steps)  # linear beta schedule\n",
    "\n",
    "# Dummy dimensions for demonstration:\n",
    "batch_size = 8\n",
    "N = 10      # number of stocks\n",
    "L = 20      # number of historical days\n",
    "\n",
    "# Instantiate the model and optimizer\n",
    "model = ConditionalDiffusionModel(input_dim, hidden_dim, kernel_size, dilation_rates, num_heads)\n",
    "optimizer = torch.optim.Adam(model.parameters(), lr=1e-4)\n",
    "\n",
    "# Dummy data (replace with real data in practice)\n",
    "historical_data = torch.randn(batch_size, N, L, input_dim)\n",
    "x0 = torch.randn(batch_size, N, 1)  # clean future prices (target)\n",
    "relation_mask = torch.eye(N)         # simple relation mask (identity matrix) with some off-diagonals set to 1 if desired\n",
    "relation_mask[0, 1] = relation_mask[1, 0] = 1\n",
    "\n",
    "# Training loop skeleton\n",
    "num_epochs = 5  # For demonstration\n",
    "\n",
    "for epoch in range(num_epochs):\n",
    "    model.train()\n",
    "    optimizer.zero_grad()\n",
    "    \n",
    "    # Sample a random diffusion timestep for each example in the batch\n",
    "    t = torch.randint(0, num_diffusion_steps, (batch_size,))\n",
    "    \n",
    "    # Generate a noisy sample x_t and the corresponding true noise\n",
    "    x_t, true_noise = forward_diffusion_sample(x0, t, betas)\n",
    "    \n",
    "    # Predict noise using the conditional diffusion model\n",
    "    noise_pred = model(x_t, historical_data, relation_mask, t)\n",
    "    \n",
    "    # Compute the MSE loss between predicted noise and the true noise\n",
    "    loss = F.mse_loss(noise_pred, true_noise)\n",
    "    \n",
    "    loss.backward()\n",
    "    optimizer.step()\n",
    "    \n",
    "    print(f\"Epoch {epoch+1}/{num_epochs}, Loss: {loss.item():.6f}\")\n"
   ]
  }
 ],
 "metadata": {
  "kernelspec": {
   "display_name": "thesis_env",
   "language": "python",
   "name": "python3"
  },
  "language_info": {
   "name": "python",
   "version": "3.10.16"
  }
 },
 "nbformat": 4,
 "nbformat_minor": 2
}
